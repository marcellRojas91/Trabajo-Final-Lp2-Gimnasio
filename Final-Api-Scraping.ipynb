{
  "cells": [
    {
      "cell_type": "markdown",
      "metadata": {
        "id": "MPNNFOXKh4LC"
      },
      "source": [
        "# **Antes que nada agregamos todos los paquetes, módulos y funciones a utilizar**"
      ]
    },
    {
      "cell_type": "code",
      "execution_count": 1,
      "metadata": {
        "vscode": {
          "languageId": "plaintext"
        },
        "id": "R2kNch5Th4LF"
      },
      "outputs": [],
      "source": [
        "import urllib.request, urllib.parse, urllib.error    # Ambos para Excavar HTML\n",
        "import re # Para espresiones regulares\n",
        "import csv # Para que podamos Exportar archivos CSV\n",
        "from bs4 import BeautifulSoup\n",
        "# ---------------------------------------------------------------------------------------------\n",
        "\n",
        "import xml.etree.ElementTree as ET # Usando el formato XML (es parecido al HTML, solo que este es más facil)\n",
        "\n",
        "# ------------------------------------------------------------------------------\n",
        "import json            # Para los formatos JSON , que son solo \"Diccionarios\"\n",
        "import urllib.request, urllib.error # Sirve para acceder a las URL\n",
        "import requests # Sirve para hacer Solicitud (ya sea el formato, pero el URL)\n",
        "\n",
        "import pandas as pd                          # Todo lo que se usara para el API\n",
        "import numpy as np\n",
        "import matplotlib.pyplot as ptl\n",
        "import seaborn as sns\n",
        "from urllib.request import urlopen\n",
        "\n",
        "# from bs4 import BeautifulSoup # as soup\n",
        "#import OpenSkyApi   # Averiguar sobre esa Libreria            # Ya fueron estos paquetes\n",
        "#from opensky_api import OpenSkyApi\n",
        "\n",
        "import sys\n",
        "import urllib.request\n",
        "from matplotlib import pyplot as plt     # Ambos son para graficar"
      ]
    },
    {
      "cell_type": "markdown",
      "source": [
        "\n",
        "\n",
        "---\n",
        "\n"
      ],
      "metadata": {
        "id": "Ebz7QCastvle"
      }
    },
    {
      "cell_type": "markdown",
      "source": [
        "# **Esto es el Link del API publico y gratuito relacionados al Fitness/Gimnasio**\n",
        "\n",
        "[hacer clik aqui para ingresar al link](https://wger.de/en/software/api)"
      ],
      "metadata": {
        "id": "F52-AF22XpHT"
      }
    },
    {
      "cell_type": "markdown",
      "source": [
        "\n",
        "\n",
        "---\n",
        "\n"
      ],
      "metadata": {
        "id": "vf9p9J60Xhgs"
      }
    },
    {
      "cell_type": "code",
      "source": [
        "# -------------------------------  OBTENIENDO EL CONJUNTO DE APIS -------------------------------------------- #\n",
        "\n",
        "# Configura la URL de la API y tu API key\n",
        "url = \"https://wger.de/api/v2/\"  # Endpoint de ejemplo\n",
        "api_key = \"8d54485bc8d2617152ec394dd81921189a0053d8\"  # Tu API key\n",
        "\n",
        "# Configura los headers para la autenticación\n",
        "headers = {\n",
        "    \"Authorization\": f\"Token {api_key}\"\n",
        "}\n",
        "\n",
        "# Realiza una solicitud GET\n",
        "response = requests.get(url, headers=headers)\n",
        "\n",
        "'''\n",
        "# Verifica la respuesta                          # NOS SALE TIPO LISTA\n",
        "if response.status_code == 200:\n",
        "    data = response.json()  # Convierte la respuesta a JSON\n",
        "    print(\"Datos obtenidos:\")\n",
        "    print(data)\n",
        "else:\n",
        "    print(f\"Error: {response.status_code}\")\n",
        "    print(response.text)\n",
        "'''\n",
        "\n",
        "# Verifica la respuesta                # NOS SALE ALGO MÁS PRESENTABLE\n",
        "if response.status_code == 200:\n",
        "  for key in response.json():\n",
        "    print(key)\n",
        "    print(response.json()[key])\n",
        "else:\n",
        "    print(f\"Error: {response.status_code}\")\n",
        "    print(response.text)\n"
      ],
      "metadata": {
        "id": "UtEY2povWzbP",
        "outputId": "c20a6243-8e0c-46c6-9346-3aacf4789e96",
        "colab": {
          "base_uri": "https://localhost:8080/"
        },
        "collapsed": true
      },
      "execution_count": 5,
      "outputs": [
        {
          "output_type": "stream",
          "name": "stdout",
          "text": [
            "day\n",
            "https://wger.de/api/v2/day/\n",
            "set\n",
            "https://wger.de/api/v2/set/\n",
            "setting\n",
            "https://wger.de/api/v2/setting/\n",
            "workout\n",
            "https://wger.de/api/v2/workout/\n",
            "templates\n",
            "https://wger.de/api/v2/templates/\n",
            "public-templates\n",
            "https://wger.de/api/v2/public-templates/\n",
            "workoutsession\n",
            "https://wger.de/api/v2/workoutsession/\n",
            "workoutlog\n",
            "https://wger.de/api/v2/workoutlog/\n",
            "schedulestep\n",
            "https://wger.de/api/v2/schedulestep/\n",
            "schedule\n",
            "https://wger.de/api/v2/schedule/\n",
            "daysofweek\n",
            "https://wger.de/api/v2/daysofweek/\n",
            "language\n",
            "https://wger.de/api/v2/language/\n",
            "license\n",
            "https://wger.de/api/v2/license/\n",
            "userprofile\n",
            "https://wger.de/api/v2/userprofile/\n",
            "setting-repetitionunit\n",
            "https://wger.de/api/v2/setting-repetitionunit/\n",
            "setting-weightunit\n",
            "https://wger.de/api/v2/setting-weightunit/\n",
            "exerciseinfo\n",
            "https://wger.de/api/v2/exerciseinfo/\n",
            "exercisebaseinfo\n",
            "https://wger.de/api/v2/exercisebaseinfo/\n",
            "exercise\n",
            "https://wger.de/api/v2/exercise/\n",
            "exercise-translation\n",
            "https://wger.de/api/v2/exercise-translation/\n",
            "exercise-base\n",
            "https://wger.de/api/v2/exercise-base/\n",
            "equipment\n",
            "https://wger.de/api/v2/equipment/\n",
            "deletion-log\n",
            "https://wger.de/api/v2/deletion-log/\n",
            "exercisecategory\n",
            "https://wger.de/api/v2/exercisecategory/\n",
            "video\n",
            "https://wger.de/api/v2/video/\n",
            "exerciseimage\n",
            "https://wger.de/api/v2/exerciseimage/\n",
            "exercisecomment\n",
            "https://wger.de/api/v2/exercisecomment/\n",
            "exercisealias\n",
            "https://wger.de/api/v2/exercisealias/\n",
            "muscle\n",
            "https://wger.de/api/v2/muscle/\n",
            "variation\n",
            "https://wger.de/api/v2/variation/\n",
            "ingredient\n",
            "https://wger.de/api/v2/ingredient/\n",
            "ingredientinfo\n",
            "https://wger.de/api/v2/ingredientinfo/\n",
            "weightunit\n",
            "https://wger.de/api/v2/weightunit/\n",
            "ingredientweightunit\n",
            "https://wger.de/api/v2/ingredientweightunit/\n",
            "nutritionplan\n",
            "https://wger.de/api/v2/nutritionplan/\n",
            "nutritionplaninfo\n",
            "https://wger.de/api/v2/nutritionplaninfo/\n",
            "nutritiondiary\n",
            "https://wger.de/api/v2/nutritiondiary/\n",
            "meal\n",
            "https://wger.de/api/v2/meal/\n",
            "mealitem\n",
            "https://wger.de/api/v2/mealitem/\n",
            "ingredient-image\n",
            "https://wger.de/api/v2/ingredient-image/\n",
            "weightentry\n",
            "https://wger.de/api/v2/weightentry/\n",
            "gallery\n",
            "https://wger.de/api/v2/gallery/\n",
            "measurement\n",
            "https://wger.de/api/v2/measurement/\n",
            "measurement-category\n",
            "https://wger.de/api/v2/measurement-category/\n"
          ]
        }
      ]
    },
    {
      "cell_type": "markdown",
      "source": [
        "## **Diccionario de Data**"
      ],
      "metadata": {
        "id": "YRxjkI32xAHP"
      }
    },
    {
      "cell_type": "markdown",
      "source": [
        "    \"day\": \"https://wger.de/api/v2/day/\",  # Descartado\n",
        "    \"set\": \"https://wger.de/api/v2/set/\",\n",
        "    \"setting\": \"https://wger.de/api/v2/setting/\",\n",
        "    \"workout\": \"https://wger.de/api/v2/workout/\",\n",
        "    \"templates\": \"https://wger.de/api/v2/templates/\",\n",
        "    \"public-templates\": \"https://wger.de/api/v2/public-templates/\",   # Aceptado\n",
        "    \"workoutsession\": \"https://wger.de/api/v2/workoutsession/\",\n",
        "    \"workoutlog\": \"https://wger.de/api/v2/workoutlog/\",\n",
        "    \"schedulestep\": \"https://wger.de/api/v2/schedulestep/\",\n",
        "    \"schedule\": \"https://wger.de/api/v2/schedule/\",\n",
        "    \"daysofweek\": \"https://wger.de/api/v2/daysofweek/\",  # Sirve pero da dia\n",
        "    \"language\": \"https://wger.de/api/v2/language/\", # Solo lenguaje/idioma\n",
        "    \"license\": \"https://wger.de/api/v2/license/\", # Aquellos que dan licencia\n",
        "    \"userprofile\": \"https://wger.de/api/v2/userprofile/\", # Aparece mis datos\n",
        "    \"setting-repetitionunit\": \"https://wger.de/api/v2/setting-repetitionunit/\",  <unidades de Repeticiones>\n",
        "    \"setting-weightunit\": \"https://wger.de/api/v2/setting-weightunit/\",  # Unidades de peso\n",
        "    \"exerciseinfo\": \"https://wger.de/api/v2/exerciseinfo/\", # Informacion de ejercicios, revisar más a dealle (puede ser buen material)\n",
        "    \"exercisebaseinfo\": \"https://wger.de/api/v2/exercisebaseinfo/\",  # Igual que la anterior mucha informacion\n",
        "    \"exercise\": \"https://wger.de/api/v2/exercise/\",  # Igual sirve\n",
        "    \"exercise-translation\": \"https://wger.de/api/v2/exercise-translation/\", # Describe más los ejercicios\n",
        "    \"exercise-base\": \"https://wger.de/api/v2/exercise-base/\", # Tiene material, pero no creo que sirva de mucho\n",
        "    \"equipment\": \"https://wger.de/api/v2/equipment/\", # Poco material, pero si creo que sirva\n",
        "    \"deletion-log\": \"https://wger.de/api/v2/deletion-log/\",  # sirvira de algo\n",
        "    \"exercisecategory\": \"https://wger.de/api/v2/exercisecategory/\",  # de los ejercicios su categoria\n",
        "    \"video\": \"https://wger.de/api/v2/video/\",  # muestran video link de los ejercicios, no creo que ayude mucho\n",
        "    \"exerciseimage\": \"https://wger.de/api/v2/exerciseimage/\",  # Igual que el anterior solo nos muestra link de imagenes\n",
        "    \"exercisecomment\": \"https://wger.de/api/v2/exercisecomment/\",  # Solo dejan su comentario\n",
        "    \"exercisealias\": \"https://wger.de/api/v2/exercisealias/\",  # Sobre nombres de los ejercicios\n",
        "    \"muscle\": \"https://wger.de/api/v2/muscle/\",  # ejercicios creo para sacar musculos\n",
        "    \"variation\": \"https://wger.de/api/v2/variation/\", # Tiene datos, pero a la firme, no sirve\n",
        "    \"ingredient\": \"https://wger.de/api/v2/ingredient/\", # Interesante, se trata sobre los valores Nutricionales, podrias incluir\n",
        "    \"ingredientinfo\": \"https://wger.de/api/v2/ingredientinfo/\",  # Similar al anterior\n",
        "    \"weightunit\": \"https://wger.de/api/v2/weightunit/\",  # Creo que si sirve, aunque parece que no .\n",
        "    \"ingredientweightunit\": \"https://wger.de/api/v2/ingredientweightunit/\",\n",
        "    \"nutritionplan\": \"https://wger.de/api/v2/nutritionplan/\",\n",
        "    \"nutritionplaninfo\": \"https://wger.de/api/v2/nutritionplaninfo/\",\n",
        "    \"nutritiondiary\": \"https://wger.de/api/v2/nutritiondiary/\",\n",
        "    \"meal\": \"https://wger.de/api/v2/meal/\",\n",
        "    \"mealitem\": \"https://wger.de/api/v2/mealitem/\",\n",
        "    \"ingredient-image\": \"https://wger.de/api/v2/ingredient-image/\",\n",
        "    \"weightentry\": \"https://wger.de/api/v2/weightentry/\",\n",
        "    \"gallery\": \"https://wger.de/api/v2/gallery/\",\n",
        "    \"measurement\": \"https://wger.de/api/v2/measurement/\",\n",
        "    \"measurement-category\": \"https://wger.de/api/v2/measurement-category/\""
      ],
      "metadata": {
        "id": "05Ez7wy-x3vs"
      }
    },
    {
      "cell_type": "code",
      "source": [
        "# Configura la URL de la API y tu API key\n",
        "url = \"https://wger.de/api/v2/public-templates/\"  # Endpoint de ejemplo\n",
        "api_key = \"8d54485bc8d2617152ec394dd81921189a0053d8\"  # Tu API key\n",
        "\n",
        "# Configura los headers para la autenticación\n",
        "headers = {\n",
        "    \"Authorization\": f\"Token {api_key}\"\n",
        "}\n",
        "\n",
        "# Realiza una solicitud GET\n",
        "response = requests.get(url, headers=headers)\n",
        "\n",
        "'''\n",
        "# Verifica la respuesta\n",
        "if response.status_code == 200:\n",
        "    data = response.json()  # Convierte la respuesta a JSON\n",
        "    print(\"Datos obtenidos:\")\n",
        "    print(data)\n",
        "else:\n",
        "    print(f\"Error: {response.status_code}\")\n",
        "    print(response.text)\n",
        "'''\n",
        "\n",
        "# Verifica la respuesta\n",
        "if response.status_code == 200:\n",
        "  for key in response.json():\n",
        "    print(key)\n",
        "    print(response.json()[key])\n",
        "else:\n",
        "    print(f\"Error: {response.status_code}\")\n",
        "    print(response.text)"
      ],
      "metadata": {
        "id": "67mPD4xVXGeI",
        "outputId": "4e3376ee-443e-4156-f893-5db8d7fb02b8",
        "colab": {
          "base_uri": "https://localhost:8080/"
        }
      },
      "execution_count": 9,
      "outputs": [
        {
          "output_type": "stream",
          "name": "stdout",
          "text": [
            "count\n",
            "52\n",
            "next\n",
            "https://wger.de/api/v2/public-templates/?limit=20&offset=20\n",
            "previous\n",
            "None\n",
            "results\n",
            "[{'id': 351673, 'name': '5 (5-3-1)', 'creation_date': '2024-11-26', 'description': ''}, {'id': 349435, 'name': 'bicep curl', 'creation_date': '2024-10-16', 'description': 'ggg'}, {'id': 349250, 'name': 'workout_2024', 'creation_date': '2024-10-11', 'description': ''}, {'id': 349017, 'name': 'Rutina 1', 'creation_date': '2024-10-05', 'description': ''}, {'id': 348971, 'name': 'plan 1', 'creation_date': '2024-10-04', 'description': ''}, {'id': 346058, 'name': 'OP AUG-OCT 2024', 'creation_date': '2024-08-10', 'description': ''}, {'id': 344408, 'name': 'Full Body Push Pull', 'creation_date': '2024-07-14', 'description': ''}, {'id': 343012, 'name': '', 'creation_date': '2024-06-22', 'description': ''}, {'id': 339960, 'name': '', 'creation_date': '2024-04-02', 'description': ''}, {'id': 338869, 'name': 'Abdominales y oblicuos en TRX', 'creation_date': '2024-03-01', 'description': 'Entrenar con TRX, se puede alternar entre serie y serie'}, {'id': 337907, 'name': '', 'creation_date': '2024-02-05', 'description': ''}, {'id': 337780, 'name': 'Default Whole Body Strength Training', 'creation_date': '2024-02-02', 'description': 'This workout is intended to set the Time Under Tension at 20 to 70 seconds to encourage muscle growth (hypertrophy) for most of the body.'}, {'id': 337054, 'name': 'Upper/Lower 4-days JF', 'creation_date': '2024-01-15', 'description': ''}, {'id': 336940, 'name': 'Chest', 'creation_date': '2024-01-11', 'description': ''}, {'id': 336405, 'name': '', 'creation_date': '2023-12-25', 'description': ''}, {'id': 335461, 'name': '10GYM Workouts', 'creation_date': '2023-11-13', 'description': ''}, {'id': 335405, 'name': 'pectorales y biceps', 'creation_date': '2023-11-10', 'description': 'pectorales y triceps'}, {'id': 332679, 'name': '', 'creation_date': '2023-07-27', 'description': ''}, {'id': 331598, 'name': 'Start up', 'creation_date': '2023-06-10', 'description': ''}, {'id': 331090, 'name': '', 'creation_date': '2023-05-22', 'description': ''}]\n"
          ]
        }
      ]
    },
    {
      "cell_type": "markdown",
      "source": [
        "\n",
        "\n",
        "---\n",
        "\n"
      ],
      "metadata": {
        "id": "C8EtmyE_VJG3"
      }
    },
    {
      "cell_type": "markdown",
      "source": [
        "En resumen, este API si tiene la Informacion acerca de los Ejercicios de los Gimnasios y el valor Nutricional. Al menos nos da los datos. De ahí pordemos sacar Medidas estadistica.\n",
        "\n",
        "La cosa que no tiene como tal una lista de gimnacios tipo con humanos de cuanto gastan, si bajaron de peso, si irian denuevo al gimnasio.\n",
        "\n",
        "Es decir, se centran en dar la Informacion de que es un Gimnacio, pero no abarca sobre problemaica que le implican, como la Obesidad, anemia, bajo nivel fisico, etc . Como que no le relaciona tanto datos junto a los humanos.\n",
        "\n",
        "Es más independiente la data al humano . \"al parecer\""
      ],
      "metadata": {
        "id": "JB_VFLNO9-5E"
      }
    },
    {
      "cell_type": "code",
      "source": [],
      "metadata": {
        "id": "KR8JBCcX0n-I"
      },
      "execution_count": null,
      "outputs": []
    }
  ],
  "metadata": {
    "language_info": {
      "name": "python"
    },
    "colab": {
      "provenance": []
    },
    "kernelspec": {
      "name": "python3",
      "display_name": "Python 3"
    }
  },
  "nbformat": 4,
  "nbformat_minor": 0
}