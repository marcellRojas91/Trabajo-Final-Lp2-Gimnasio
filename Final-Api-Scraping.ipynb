{
  "cells": [
    {
      "cell_type": "markdown",
      "metadata": {
        "id": "MPNNFOXKh4LC"
      },
      "source": [
        "Agregando Primero los Paquetes"
      ]
    },
    {
      "cell_type": "code",
      "execution_count": 6,
      "metadata": {
        "vscode": {
          "languageId": "plaintext"
        },
        "id": "R2kNch5Th4LF"
      },
      "outputs": [],
      "source": [
        "import urllib.request, urllib.parse, urllib.error    # Ambos para Excavar HTML\n",
        "import re # Para espresiones regulares\n",
        "import csv # Para que podamos Exportar archivos CSV\n",
        "from bs4 import BeautifulSoup\n",
        "# ---------------------------------------------------------------------------------------------\n",
        "\n",
        "import xml.etree.ElementTree as ET # Usando el formato XML (es parecido al HTML, solo que este es más facil)\n",
        "\n",
        "# ------------------------------------------------------------------------------\n",
        "import json            # Para los formatos JSON , que son solo \"Diccionarios\"\n",
        "import urllib.request, urllib.error # Sirve para acceder a las URL\n",
        "import requests # Sirve para hacer Solicitud (ya sea el formato, pero el URL)\n",
        "\n",
        "import pandas as pd                          # Todo lo que se usara para el API\n",
        "import numpy as np\n",
        "import matplotlib.pyplot as ptl\n",
        "import seaborn as sns\n",
        "from urllib.request import urlopen\n",
        "\n",
        "# from bs4 import BeautifulSoup # as soup\n",
        "#import OpenSkyApi   # Averiguar sobre esa Libreria            # Ya fueron estos paquetes\n",
        "#from opensky_api import OpenSkyApi\n",
        "\n",
        "import sys\n",
        "import urllib.request\n",
        "from matplotlib import pyplot as plt     # Ambos son para graficar"
      ]
    },
    {
      "cell_type": "markdown",
      "source": [
        "\n",
        "\n",
        "---\n",
        "\n"
      ],
      "metadata": {
        "id": "Ebz7QCastvle"
      }
    },
    {
      "cell_type": "code",
      "source": [],
      "metadata": {
        "id": "ICS6LeqAuZEd"
      },
      "execution_count": null,
      "outputs": []
    }
  ],
  "metadata": {
    "language_info": {
      "name": "python"
    },
    "colab": {
      "provenance": []
    },
    "kernelspec": {
      "name": "python3",
      "display_name": "Python 3"
    }
  },
  "nbformat": 4,
  "nbformat_minor": 0
}