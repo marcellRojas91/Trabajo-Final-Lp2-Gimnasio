{
  "cells": [
    {
      "cell_type": "markdown",
      "metadata": {
        "id": "MPNNFOXKh4LC"
      },
      "source": [
        "Agregando Primero los Paquetes"
      ]
    },
    {
      "cell_type": "code",
      "execution_count": 1,
      "metadata": {
        "vscode": {
          "languageId": "plaintext"
        },
        "id": "R2kNch5Th4LF"
      },
      "outputs": [],
      "source": [
        "import urllib.request, urllib.parse, urllib.error    # Ambos para Excavar HTML\n",
        "import re # Para espresiones regulares\n",
        "import csv # Para que podamos Exportar archivos CSV\n",
        "from bs4 import BeautifulSoup\n",
        "# ---------------------------------------------------------------------------------------------\n",
        "\n",
        "import xml.etree.ElementTree as ET # Usando el formato XML (es parecido al HTML, solo que este es más facil)\n",
        "\n",
        "# ------------------------------------------------------------------------------\n",
        "import json            # Para los formatos JSON , que son solo \"Diccionarios\"\n",
        "import urllib.request, urllib.error # Sirve para acceder a las URL\n",
        "import requests # Sirve para hacer Solicitud (ya sea el formato, pero el URL)\n",
        "\n",
        "import pandas as pd                          # Todo lo que se usara para el API\n",
        "import numpy as np\n",
        "import matplotlib.pyplot as ptl\n",
        "import seaborn as sns\n",
        "from urllib.request import urlopen\n",
        "\n",
        "# from bs4 import BeautifulSoup # as soup\n",
        "#import OpenSkyApi   # Averiguar sobre esa Libreria            # Ya fueron estos paquetes\n",
        "#from opensky_api import OpenSkyApi\n",
        "\n",
        "import sys\n",
        "import urllib.request\n",
        "from matplotlib import pyplot as plt     # Ambos son para graficar"
      ]
    },
    {
      "cell_type": "markdown",
      "source": [
        "\n",
        "\n",
        "---\n",
        "\n"
      ],
      "metadata": {
        "id": "Ebz7QCastvle"
      }
    },
    {
      "cell_type": "markdown",
      "source": [
        "# **Esto es el Link del API publico y gratuito relacionado al Deporte y al Fitness/Gimnasio**\n",
        "\n",
        "[hacer clik aqui para ingresar al link](https://wger.de/en/software/api)"
      ],
      "metadata": {
        "id": "F52-AF22XpHT"
      }
    },
    {
      "cell_type": "markdown",
      "source": [
        "\n",
        "\n",
        "---\n",
        "\n"
      ],
      "metadata": {
        "id": "vf9p9J60Xhgs"
      }
    },
    {
      "cell_type": "code",
      "source": [
        "# Configura la URL de la API y tu API key\n",
        "url = \"https://wger.de/api/v2/workout/\"  # Endpoint de ejemplo\n",
        "api_key = \"8d54485bc8d2617152ec394dd81921189a0053d8\"  # Tu API key\n",
        "\n",
        "# Configura los headers para la autenticación\n",
        "headers = {\n",
        "    \"Authorization\": f\"Token {api_key}\"\n",
        "}\n",
        "\n",
        "# Realiza una solicitud GET\n",
        "response = requests.get(url, headers=headers)\n",
        "\n",
        "# Verifica la respuesta\n",
        "if response.status_code == 200:\n",
        "    data = response.json()  # Convierte la respuesta a JSON\n",
        "    print(\"Datos obtenidos:\")\n",
        "    print(data)\n",
        "else:\n",
        "    print(f\"Error: {response.status_code}\")\n",
        "    print(response.text)\n"
      ],
      "metadata": {
        "id": "WRKkX_1jVIqX",
        "outputId": "b0278513-61d8-4c50-b371-10bc93949cb3",
        "colab": {
          "base_uri": "https://localhost:8080/"
        }
      },
      "execution_count": 2,
      "outputs": [
        {
          "output_type": "stream",
          "name": "stdout",
          "text": [
            "Datos obtenidos:\n",
            "{'count': 0, 'next': None, 'previous': None, 'results': []}\n"
          ]
        }
      ]
    },
    {
      "cell_type": "code",
      "source": [
        "# Configura la URL de la API y tu API key\n",
        "url = \"https://wger.de/api/v2/\"  # Endpoint de ejemplo\n",
        "api_key = \"8d54485bc8d2617152ec394dd81921189a0053d8\"  # Tu API key\n",
        "\n",
        "# Configura los headers para la autenticación\n",
        "headers = {\n",
        "    \"Authorization\": f\"Token {api_key}\"\n",
        "}\n",
        "\n",
        "# Realiza una solicitud GET\n",
        "response = requests.get(url, headers=headers)\n",
        "\n",
        "# Verifica la respuesta\n",
        "if response.status_code == 200:\n",
        "    data = response.json()  # Convierte la respuesta a JSON\n",
        "    print(\"Datos obtenidos:\")\n",
        "    print(data)\n",
        "else:\n",
        "    print(f\"Error: {response.status_code}\")\n",
        "    print(response.text)"
      ],
      "metadata": {
        "id": "UtEY2povWzbP",
        "outputId": "c2957088-5277-47ae-a1b4-bcba83f46285",
        "colab": {
          "base_uri": "https://localhost:8080/"
        }
      },
      "execution_count": 3,
      "outputs": [
        {
          "output_type": "stream",
          "name": "stdout",
          "text": [
            "Datos obtenidos:\n",
            "{'day': 'https://wger.de/api/v2/day/', 'set': 'https://wger.de/api/v2/set/', 'setting': 'https://wger.de/api/v2/setting/', 'workout': 'https://wger.de/api/v2/workout/', 'templates': 'https://wger.de/api/v2/templates/', 'public-templates': 'https://wger.de/api/v2/public-templates/', 'workoutsession': 'https://wger.de/api/v2/workoutsession/', 'workoutlog': 'https://wger.de/api/v2/workoutlog/', 'schedulestep': 'https://wger.de/api/v2/schedulestep/', 'schedule': 'https://wger.de/api/v2/schedule/', 'daysofweek': 'https://wger.de/api/v2/daysofweek/', 'language': 'https://wger.de/api/v2/language/', 'license': 'https://wger.de/api/v2/license/', 'userprofile': 'https://wger.de/api/v2/userprofile/', 'setting-repetitionunit': 'https://wger.de/api/v2/setting-repetitionunit/', 'setting-weightunit': 'https://wger.de/api/v2/setting-weightunit/', 'exerciseinfo': 'https://wger.de/api/v2/exerciseinfo/', 'exercisebaseinfo': 'https://wger.de/api/v2/exercisebaseinfo/', 'exercise': 'https://wger.de/api/v2/exercise/', 'exercise-translation': 'https://wger.de/api/v2/exercise-translation/', 'exercise-base': 'https://wger.de/api/v2/exercise-base/', 'equipment': 'https://wger.de/api/v2/equipment/', 'deletion-log': 'https://wger.de/api/v2/deletion-log/', 'exercisecategory': 'https://wger.de/api/v2/exercisecategory/', 'video': 'https://wger.de/api/v2/video/', 'exerciseimage': 'https://wger.de/api/v2/exerciseimage/', 'exercisecomment': 'https://wger.de/api/v2/exercisecomment/', 'exercisealias': 'https://wger.de/api/v2/exercisealias/', 'muscle': 'https://wger.de/api/v2/muscle/', 'variation': 'https://wger.de/api/v2/variation/', 'ingredient': 'https://wger.de/api/v2/ingredient/', 'ingredientinfo': 'https://wger.de/api/v2/ingredientinfo/', 'weightunit': 'https://wger.de/api/v2/weightunit/', 'ingredientweightunit': 'https://wger.de/api/v2/ingredientweightunit/', 'nutritionplan': 'https://wger.de/api/v2/nutritionplan/', 'nutritionplaninfo': 'https://wger.de/api/v2/nutritionplaninfo/', 'nutritiondiary': 'https://wger.de/api/v2/nutritiondiary/', 'meal': 'https://wger.de/api/v2/meal/', 'mealitem': 'https://wger.de/api/v2/mealitem/', 'ingredient-image': 'https://wger.de/api/v2/ingredient-image/', 'weightentry': 'https://wger.de/api/v2/weightentry/', 'gallery': 'https://wger.de/api/v2/gallery/', 'measurement': 'https://wger.de/api/v2/measurement/', 'measurement-category': 'https://wger.de/api/v2/measurement-category/'}\n"
          ]
        }
      ]
    },
    {
      "cell_type": "code",
      "source": [
        "# Configura la URL de la API y tu API key\n",
        "url = \"https://wger.de/api/v2/exercisecategory/\"  # Endpoint de ejemplo\n",
        "api_key = \"8d54485bc8d2617152ec394dd81921189a0053d8\"  # Tu API key\n",
        "\n",
        "# Configura los headers para la autenticación\n",
        "headers = {\n",
        "    \"Authorization\": f\"Token {api_key}\"\n",
        "}\n",
        "\n",
        "# Realiza una solicitud GET\n",
        "response = requests.get(url, headers=headers)\n",
        "\n",
        "# Verifica la respuesta\n",
        "if response.status_code == 200:\n",
        "    data = response.json()  # Convierte la respuesta a JSON\n",
        "    print(\"Datos obtenidos:\")\n",
        "    print(data)\n",
        "else:\n",
        "    print(f\"Error: {response.status_code}\")\n",
        "    print(response.text)"
      ],
      "metadata": {
        "id": "67mPD4xVXGeI",
        "outputId": "a5229191-bfbe-4207-e98e-410d3ba7e7ed",
        "colab": {
          "base_uri": "https://localhost:8080/"
        }
      },
      "execution_count": 4,
      "outputs": [
        {
          "output_type": "stream",
          "name": "stdout",
          "text": [
            "Datos obtenidos:\n",
            "{'count': 8, 'next': None, 'previous': None, 'results': [{'id': 10, 'name': 'Abs'}, {'id': 8, 'name': 'Arms'}, {'id': 12, 'name': 'Back'}, {'id': 14, 'name': 'Calves'}, {'id': 15, 'name': 'Cardio'}, {'id': 11, 'name': 'Chest'}, {'id': 9, 'name': 'Legs'}, {'id': 13, 'name': 'Shoulders'}]}\n"
          ]
        }
      ]
    },
    {
      "cell_type": "markdown",
      "source": [
        "\n",
        "\n",
        "---\n",
        "\n"
      ],
      "metadata": {
        "id": "C8EtmyE_VJG3"
      }
    },
    {
      "cell_type": "code",
      "source": [
        "# Esto es otra Vaina de la pagina\n",
        "resultado = solicitudes.post(\n",
        "    'https://wger.de/api/v2/token',\n",
        "    datos={'nombre de usuario': 'usuario', 'contraseña': 'admin'}\n",
        ")\n",
        "token_de_acceso = resultado.json()['acceso']\n",
        "token_de_actualización = resultado.json()['actualizar']\n",
        "\n",
        "print(resultado.json())"
      ],
      "metadata": {
        "id": "ICS6LeqAuZEd"
      },
      "execution_count": null,
      "outputs": []
    }
  ],
  "metadata": {
    "language_info": {
      "name": "python"
    },
    "colab": {
      "provenance": []
    },
    "kernelspec": {
      "name": "python3",
      "display_name": "Python 3"
    }
  },
  "nbformat": 4,
  "nbformat_minor": 0
}