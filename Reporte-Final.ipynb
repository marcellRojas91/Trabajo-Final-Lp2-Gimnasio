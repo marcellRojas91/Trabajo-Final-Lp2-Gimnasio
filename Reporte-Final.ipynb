{
  "cells": [
    {
      "cell_type": "markdown",
      "source": [
        "\n",
        "\n",
        "---\n",
        "\n",
        "\n",
        "\n",
        "---\n",
        "\n"
      ],
      "metadata": {
        "id": "h3n1WUJX3Sg7"
      }
    },
    {
      "cell_type": "markdown",
      "source": [
        "# UNIVERSIDAD NACIONAL AGRARIA LA MOLINA  \n",
        "## EXAMEN FINAL  \n",
        "\n",
        "![Escudo UNALM](https://www.lamolina.edu.pe/portada/swf/encabezado/imgs/escudo_unalm_A4.jpg)\n",
        "---\n",
        "\n",
        "### **El Gimnasio y su ámbito en la Salud**  \n",
        "\n",
        "**Curso**: Lenguaje de Programación 2  \n",
        "\n",
        "**Integrantes**:  \n",
        "- Justin Wess Sam Vásquez Vega - 20230416  \n",
        "- Leonardo Jesús Ccorahua Madera - 20240701  \n",
        "- Marcell Enrique Rojas Molina - 20230411  \n",
        "\n",
        "\n",
        "**Facultad**: Economía y Planificación  \n",
        "\n",
        "**Profesor/a**: Ana Vargas  \n",
        "\n",
        "---\n",
        "\n",
        "_LIMA – PERÚ_\n"
      ],
      "metadata": {
        "id": "cLVFGV9I2e3f"
      }
    },
    {
      "cell_type": "markdown",
      "source": [
        "\n",
        "\n",
        "---\n",
        "\n",
        "\n",
        "\n",
        "---\n",
        "\n"
      ],
      "metadata": {
        "id": "n8we1X6D3P4c"
      }
    },
    {
      "cell_type": "markdown",
      "source": [
        "# 💪 Proyecto de Web Scrapping: Salud, Ejercicio y Gimnasios\n",
        "\n",
        "En nuestra sociedad moderna, cada vez más personas reconocen la importancia de mantener un estilo de vida activo y saludable. La actividad física se alza como una pieza clave no solo para fortalecer nuestro cuerpo, sino también para promover nuestro bienestar general. Con este proyecto, pretendemos ahondar en la relevancia del ejercicio y cómo éste se presenta como una herramienta poderosa para quemar las calorías que consumimos diariamente.\n",
        "\n",
        "## 🏃 La Importancia de la Actividad Física\n",
        "\n",
        "El ejercicio regular no solo transforma nuestros cuerpos de manera visible, sino que actúa como un guardián de la salud. Ayuda a controlar el peso, mejorar el estado de ánimo, aumentar la energía y promover una mejor calidad del sueño, entre otros beneficios. Pero un aspecto crucial de la actividad física es su capacidad para quemar esas calorías extra que acumulamos a diario, permitiendo así mantener un equilibrio energético y prevenir problemas relacionados con el sobrepeso.\n",
        "\n",
        "## 🗝️ Enfoque del Proyecto\n",
        "\n",
        "A lo largo de este proyecto, queremos desglosar y presentar de manera clara y concisa información cuantitativa sobre las calorías y la importancia de la actividad física. Nuestro objetivo es ilustrar cómo diversos tipos de ejercicios y rutinas pueden ayudar a las personas a alcanzar sus objetivos personales de bienestar. No solo eso, también la intención es explorar qué opciones tienen las personas para poder realizar actividades físicas y así estén informadas sobre el libre acceso a espacios para poder ejercitarse."
      ],
      "metadata": {
        "id": "nGK3czJx3WTy"
      }
    },
    {
      "cell_type": "markdown",
      "source": [
        "\n",
        "\n",
        "---\n",
        "\n"
      ],
      "metadata": {
        "id": "a5S0mfVm3r6K"
      }
    },
    {
      "cell_type": "markdown",
      "source": [
        "# **La quema de Calorías**"
      ],
      "metadata": {
        "id": "ZfbXLlM63te0"
      }
    },
    {
      "cell_type": "code",
      "source": [
        "# Aquí iria un web scrapping sencillo y simple de esta página: https://www.healthline.com/health/fitness-exercise/how-many-calories-do-i-burn-a-day"
      ],
      "metadata": {
        "id": "HeTPhBR_3tET"
      },
      "execution_count": null,
      "outputs": []
    },
    {
      "cell_type": "code",
      "execution_count": 1,
      "metadata": {
        "vscode": {
          "languageId": "plaintext"
        },
        "id": "pqUdU7Ijy5gp",
        "outputId": "57b9bfca-ca2c-4bd1-b7d5-3f6a01fca425",
        "colab": {
          "base_uri": "https://localhost:8080/"
        }
      },
      "outputs": [
        {
          "output_type": "stream",
          "name": "stdout",
          "text": [
            "Oraciones encontradas:\n",
            "You can use the following equation:Calories burned per minute = 0.0175 x metabolic equivalent of task (MET) x weight in kilogramsHow many calories do you burn doing nothing per hour?\n",
            "A broad 2014 literature review assessed 397 estimates of RMR and found that the mean amount of calories burned per hour at rest was 0.863 kcal per kg of body weight.\n",
            "1346.28\n",
            "Oraciones encontradas:\n",
            "While the average person needs roughly 2,200–3,000 and 1,600–2,200 calories per day, your needs may differ depending on your height, weight, and activity level.\n"
          ]
        }
      ],
      "source": [
        "import requests\n",
        "from bs4 import BeautifulSoup\n",
        "import re\n",
        "\n",
        "# Esta es una página que contiene información sobre calorías\n",
        "url = 'https://www.healthline.com/health/fitness-exercise/how-many-calories-do-i-burn-a-day'\n",
        "\n",
        "# Realizar la solicitud a la página\n",
        "response = requests.get(url)\n",
        "\n",
        "content = response.text\n",
        "\n",
        "# Ahora es posible poder extraer información de la página que sea relevante para nuestra investigación\n",
        "\n",
        "# Uno de los puntos claves sería indagar si la página menciona informacion sobre quema natural de calorías\n",
        "\n",
        "# Antes de poder extraer informacion de texto, hay que separar el HTML en oraciones para poder acceder al contenido que nos interesa\n",
        "\n",
        "# Creamos el objeto BeautifulSoup\n",
        "soup = BeautifulSoup(response.content, 'html.parser')\n",
        "\n",
        "# Extraemos todo el texto de la página\n",
        "page_text = soup.get_text()\n",
        "\n",
        "# Dividimos el texto en oraciones\n",
        "oraciones = re.split(r'(?<=[.!?])(?!(?<=\\d\\.)\\d)', page_text)\n",
        "\n",
        "# Primera busqueda: Se quiere ver si hay algo relacionado a las calorias quemadas sin hacer nada\n",
        "resultados = []\n",
        "for i, oracion in enumerate(oraciones):\n",
        "    if 'doing nothing' in oracion.lower():\n",
        "        # Añadir la oración actual que contiene la frase\n",
        "        resultados.append(oracion.strip())\n",
        "        # Según lo obtenido, es conveniente añadir la siguiente oración\n",
        "        if i + 1 < len(oraciones):\n",
        "            resultados.append(oraciones[i + 1].strip())\n",
        "# Imprimimos los resultados\n",
        "print(\"Oraciones encontradas:\")\n",
        "for resultado in resultados:\n",
        "    print(resultado)\n",
        "# Se va a suponer un caso estandar de un hombre de 1.60 de altura y 65 kg\n",
        "natural = 0.863*65*24\n",
        "print(natural)\n",
        "# Se podria estimar que aproximadamente las calorías quemadas por un hombre en 24 horas es 1350\n",
        "# Segunda busqueda: ¿Hay algo relacionado sobre el consumo promedio o algo sobre la persona promedio?\n",
        "resultados = []\n",
        "for i, oracion in enumerate(oraciones):\n",
        "    if 'average' in oracion.lower():\n",
        "        # Añadir la oración actual que contiene la frase\n",
        "        resultados.append(oracion.strip())\n",
        "# Imprimimos los resultados\n",
        "print(\"Oraciones encontradas:\")\n",
        "for resultado in resultados:\n",
        "    print(resultado)\n",
        "# Se encuentra que la persona promedio consume unas 2000 calorias aproximadamente\n"
      ]
    },
    {
      "cell_type": "markdown",
      "metadata": {
        "id": "GORII_lFy5gr"
      },
      "source": []
    },
    {
      "cell_type": "code",
      "execution_count": null,
      "metadata": {
        "vscode": {
          "languageId": "plaintext"
        },
        "id": "hWDwjMXey5gt"
      },
      "outputs": [],
      "source": []
    },
    {
      "cell_type": "markdown",
      "metadata": {
        "id": "adsnE6fly5gu"
      },
      "source": []
    }
  ],
  "metadata": {
    "language_info": {
      "name": "python"
    },
    "colab": {
      "provenance": []
    },
    "kernelspec": {
      "name": "python3",
      "display_name": "Python 3"
    }
  },
  "nbformat": 4,
  "nbformat_minor": 0
}