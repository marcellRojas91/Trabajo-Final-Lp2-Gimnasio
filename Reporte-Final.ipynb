{
  "cells": [
    {
      "cell_type": "markdown",
      "source": [
        "\n",
        "\n",
        "---\n",
        "\n",
        "\n",
        "\n",
        "---\n",
        "\n"
      ],
      "metadata": {
        "id": "h3n1WUJX3Sg7"
      }
    },
    {
      "cell_type": "markdown",
      "source": [
        "# UNIVERSIDAD NACIONAL AGRARIA LA MOLINA  \n",
        "## EXAMEN FINAL  \n",
        "\n",
        "![Escudo UNALM](https://www.lamolina.edu.pe/portada/swf/encabezado/imgs/escudo_unalm_A4.jpg)\n",
        "---\n",
        "\n",
        "### **El Gimnasio y su ámbito en la Salud**  \n",
        "\n",
        "**Curso**: Lenguaje de Programación 2  \n",
        "\n",
        "**Integrantes**:  \n",
        "- Justin Wess Sam Vásquez Vega - 20230416  \n",
        "- Leonardo Jesús Ccorahua Madera - 20240701  \n",
        "- Marcell Enrique Rojas Molina - 20230411  \n",
        "\n",
        "\n",
        "**Facultad**: Economía y Planificación  \n",
        "\n",
        "**Profesor/a**: Ana Vargas  \n",
        "\n",
        "---\n",
        "\n",
        "_LIMA – PERÚ_\n"
      ],
      "metadata": {
        "id": "cLVFGV9I2e3f"
      }
    },
    {
      "cell_type": "markdown",
      "source": [
        "\n",
        "\n",
        "---\n",
        "\n",
        "\n",
        "\n",
        "---\n",
        "\n"
      ],
      "metadata": {
        "id": "n8we1X6D3P4c"
      }
    },
    {
      "cell_type": "markdown",
      "source": [
        "# 💪 Proyecto de Web Scrapping: Salud, Ejercicio y Gimnasios\n",
        "\n",
        "En nuestra sociedad moderna, cada vez más personas reconocen la importancia de mantener un estilo de vida activo y saludable. La actividad física se alza como una pieza clave no solo para fortalecer nuestro cuerpo, sino también para promover nuestro bienestar general. Con este proyecto, pretendemos ahondar en la relevancia del ejercicio y cómo éste se presenta como una herramienta poderosa para quemar las calorías que consumimos diariamente.\n",
        "\n",
        "## 🏃 La Importancia de la Actividad Física\n",
        "\n",
        "El ejercicio regular no solo transforma nuestros cuerpos de manera visible, sino que actúa como un guardián de la salud. Ayuda a controlar el peso, mejorar el estado de ánimo, aumentar la energía y promover una mejor calidad del sueño, entre otros beneficios. Pero un aspecto crucial de la actividad física es su capacidad para quemar esas calorías extra que acumulamos a diario, permitiendo así mantener un equilibrio energético y prevenir problemas relacionados con el sobrepeso.\n",
        "\n",
        "## 🗝️ Enfoque del Proyecto\n",
        "\n",
        "A lo largo de este proyecto, queremos desglosar y presentar de manera clara y concisa información cuantitativa sobre las calorías y la importancia de la actividad física. Nuestro objetivo es ilustrar cómo diversos tipos de ejercicios y rutinas pueden ayudar a las personas a alcanzar sus objetivos personales de bienestar. No solo eso, también la intención es explorar qué opciones tienen las personas para poder realizar actividades físicas y así estén informadas sobre el libre acceso a espacios para poder ejercitarse."
      ],
      "metadata": {
        "id": "nGK3czJx3WTy"
      }
    },
    {
      "cell_type": "markdown",
      "source": [
        "\n",
        "\n",
        "---\n",
        "\n"
      ],
      "metadata": {
        "id": "a5S0mfVm3r6K"
      }
    },
    {
      "cell_type": "markdown",
      "source": [
        "# **La quema de Calorías**"
      ],
      "metadata": {
        "id": "ZfbXLlM63te0"
      }
    },
    {
      "cell_type": "code",
      "source": [
        "# Aquí iria un web scrapping sencillo y simple de esta página: https://www.healthline.com/health/fitness-exercise/how-many-calories-do-i-burn-a-day"
      ],
      "metadata": {
        "id": "HeTPhBR_3tET"
      },
      "execution_count": null,
      "outputs": []
    },
    {
      "cell_type": "code",
      "execution_count": null,
      "metadata": {
        "vscode": {
          "languageId": "plaintext"
        },
        "id": "pqUdU7Ijy5gp",
        "outputId": "57b9bfca-ca2c-4bd1-b7d5-3f6a01fca425",
        "colab": {
          "base_uri": "https://localhost:8080/"
        }
      },
      "outputs": [
        {
          "output_type": "stream",
          "name": "stdout",
          "text": [
            "Oraciones encontradas:\n",
            "You can use the following equation:Calories burned per minute = 0.0175 x metabolic equivalent of task (MET) x weight in kilogramsHow many calories do you burn doing nothing per hour?\n",
            "A broad 2014 literature review assessed 397 estimates of RMR and found that the mean amount of calories burned per hour at rest was 0.863 kcal per kg of body weight.\n",
            "1346.28\n",
            "Oraciones encontradas:\n",
            "While the average person needs roughly 2,200–3,000 and 1,600–2,200 calories per day, your needs may differ depending on your height, weight, and activity level.\n"
          ]
        }
      ],
      "source": [
        "import requests\n",
        "from bs4 import BeautifulSoup\n",
        "import re\n",
        "\n",
        "# Esta es una página que contiene información sobre calorías\n",
        "url = 'https://www.healthline.com/health/fitness-exercise/how-many-calories-do-i-burn-a-day'\n",
        "\n",
        "# Realizar la solicitud a la página\n",
        "response = requests.get(url)\n",
        "\n",
        "content = response.text\n",
        "\n",
        "# Ahora es posible poder extraer información de la página que sea relevante para nuestra investigación\n",
        "\n",
        "# Uno de los puntos claves sería indagar si la página menciona informacion sobre quema natural de calorías\n",
        "\n",
        "# Antes de poder extraer informacion de texto, hay que separar el HTML en oraciones para poder acceder al contenido que nos interesa\n",
        "\n",
        "# Creamos el objeto BeautifulSoup\n",
        "soup = BeautifulSoup(response.content, 'html.parser')\n",
        "\n",
        "# Extraemos todo el texto de la página\n",
        "page_text = soup.get_text()\n",
        "\n",
        "# Dividimos el texto en oraciones\n",
        "oraciones = re.split(r'(?<=[.!?])(?!(?<=\\d\\.)\\d)', page_text)\n",
        "\n",
        "# Primera busqueda: Se quiere ver si hay algo relacionado a las calorias quemadas sin hacer nada\n",
        "resultados = []\n",
        "for i, oracion in enumerate(oraciones):\n",
        "    if 'doing nothing' in oracion.lower():\n",
        "        # Añadir la oración actual que contiene la frase\n",
        "        resultados.append(oracion.strip())\n",
        "        # Según lo obtenido, es conveniente añadir la siguiente oración\n",
        "        if i + 1 < len(oraciones):\n",
        "            resultados.append(oraciones[i + 1].strip())\n",
        "# Imprimimos los resultados\n",
        "print(\"Oraciones encontradas:\")\n",
        "for resultado in resultados:\n",
        "    print(resultado)\n",
        "# Se va a suponer un caso estandar de un hombre de 1.60 de altura y 65 kg\n",
        "natural = 0.863*65*24\n",
        "print(natural)\n",
        "# Se podria estimar que aproximadamente las calorías quemadas por un hombre en 24 horas es 1350\n",
        "# Segunda busqueda: ¿Hay algo relacionado sobre el consumo promedio o algo sobre la persona promedio?\n",
        "resultados = []\n",
        "for i, oracion in enumerate(oraciones):\n",
        "    if 'average' in oracion.lower():\n",
        "        # Añadir la oración actual que contiene la frase\n",
        "        resultados.append(oracion.strip())\n",
        "# Imprimimos los resultados\n",
        "print(\"Oraciones encontradas:\")\n",
        "for resultado in resultados:\n",
        "    print(resultado)\n",
        "# Se encuentra que la persona promedio consume unas 2000 calorias aproximadamente\n"
      ]
    },
    {
      "cell_type": "markdown",
      "metadata": {
        "id": "GORII_lFy5gr"
      },
      "source": []
    },
    {
      "cell_type": "code",
      "execution_count": null,
      "metadata": {
        "vscode": {
          "languageId": "plaintext"
        },
        "id": "hWDwjMXey5gt"
      },
      "outputs": [],
      "source": []
    },
    {
      "cell_type": "markdown",
      "metadata": {
        "id": "adsnE6fly5gu"
      },
      "source": []
    },
    {
      "cell_type": "markdown",
      "source": [
        "\n",
        "\n",
        "---\n",
        "\n",
        "---\n",
        "\n",
        "\n",
        "\n",
        "---\n",
        "\n",
        "\n",
        "\n",
        "---\n",
        "\n",
        "\n",
        "\n",
        "\n",
        "\n",
        "---\n",
        "\n"
      ],
      "metadata": {
        "id": "iRHIsNNr_syJ"
      }
    },
    {
      "cell_type": "code",
      "source": [
        "import requests\n",
        "from bs4 import BeautifulSoup\n",
        "import pandas as pd\n",
        "\n",
        "# URL de la página web\n",
        "url = \"https://www.smartfit.com.pe/planes\"\n",
        "\n",
        "# Encabezados para simular un navegador real\n",
        "headers = {\n",
        "    \"User-Agent\": \"Mozilla/5.0 (Windows NT 10.0; Win64; x64) AppleWebKit/537.36 (KHTML, like Gecko) Chrome/119.0.0.0 Safari/537.36\"\n",
        "}\n",
        "\n",
        "# Realizar la solicitud GET con los encabezados\n",
        "response = requests.get(url, headers=headers)\n",
        "\n",
        "# Verificar si la solicitud fue exitosa\n",
        "if response.status_code == 200:\n",
        "    # Analizar el contenido HTML\n",
        "    soup = BeautifulSoup(response.text, \"html.parser\")\n",
        "\n",
        "    # Extraer los contenedores de cada plan\n",
        "    plans = soup.find_all(\"div\", class_=\"Plan js-plan\")\n",
        "\n",
        "    # Lista para almacenar los datos\n",
        "    data = []\n",
        "\n",
        "    # Iterar sobre cada plan y extraer información\n",
        "    for plan in plans:\n",
        "        # Nombre del plan (dentro de <h3 class=\"Plan__title\">)\n",
        "        name_tag = plan.find(\"h3\", class_=\"Plan__title\")\n",
        "        name = name_tag.get_text(strip=True) if name_tag else \"No disponible\"\n",
        "\n",
        "        # Precio del plan (dentro de <div class=\"component_location_price__integer\"> y <sup>)\n",
        "        price_tag = plan.find(\"div\", class_=\"component_location_price__integer\")\n",
        "        currency_tag = plan.find(\"sup\", class_=\"component_location_price__coin\")\n",
        "        price = \"No disponible\"\n",
        "\n",
        "        # Verificar y combinar el símbolo de moneda y el precio\n",
        "        try:\n",
        "            if price_tag and currency_tag:\n",
        "                # Algunos precios pueden estar en diferentes posiciones, así que manejamos ambos casos\n",
        "                price_number = price_tag.get_text(strip=True).replace(\"*\", \"\").strip()\n",
        "                currency_symbol = currency_tag.get_text(strip=True)\n",
        "                price = f\"{currency_symbol} {price_number}\"\n",
        "        except Exception as e:\n",
        "            print(f\"Error procesando el precio: {e}\")\n",
        "\n",
        "        # Beneficios del plan (los añadiremos luego)\n",
        "        benefits = \"No disponible\"\n",
        "\n",
        "        # Agregar al dataset\n",
        "        data.append({\"Nombre del Plan\": name, \"Precio\": price, \"Beneficios\": benefits})\n",
        "\n",
        "    # Crear un DataFrame\n",
        "    df = pd.DataFrame(data)\n",
        "\n",
        "    # Guardar en un archivo CSV\n",
        "    df.to_csv(\"planes_smartfit.csv\", index=False, encoding=\"utf-8\")\n",
        "    print(\"Datos extraídos y guardados en 'planes_smartfit.csv'.\")\n",
        "    print(df)\n",
        "\n",
        "else:\n",
        "    print(f\"Error al realizar la solicitud. Código de estado: {response.status_code}\")\n"
      ],
      "metadata": {
        "id": "Am_JZd1vMBvY",
        "outputId": "ba442167-c760-4e46-da59-aed8c8a0a85f",
        "colab": {
          "base_uri": "https://localhost:8080/"
        }
      },
      "execution_count": 10,
      "outputs": [
        {
          "output_type": "stream",
          "name": "stdout",
          "text": [
            "Datos extraídos y guardados en 'planes_smartfit.csv'.\n",
            "  Nombre del Plan      Precio     Beneficios\n",
            "0      Plan Smart  S/ S/89,90  No disponible\n",
            "1        Plan Fit  S/ S/79,90  No disponible\n"
          ]
        }
      ]
    },
    {
      "cell_type": "code",
      "source": [
        "import requests\n",
        "from bs4 import BeautifulSoup\n",
        "import pandas as pd\n",
        "\n",
        "# URL de la página web\n",
        "url = \"https://www.smartfit.com.pe/planes\"\n",
        "\n",
        "# Encabezados para simular un navegador real\n",
        "headers = {\n",
        "    \"User-Agent\": \"Mozilla/5.0 (Windows NT 10.0; Win64; x64) AppleWebKit/537.36 (KHTML, like Gecko) Chrome/119.0.0.0 Safari/537.36\"\n",
        "}\n",
        "\n",
        "# Realizar la solicitud GET con los encabezados\n",
        "response = requests.get(url, headers=headers)\n",
        "\n",
        "# Verificar si la solicitud fue exitosa\n",
        "if response.status_code == 200:\n",
        "    # Analizar el contenido HTML\n",
        "    soup = BeautifulSoup(response.text, \"html.parser\")\n",
        "\n",
        "    # Extraer los contenedores de cada plan\n",
        "    plans = soup.find_all(\"div\", class_=\"Plan js-plan\")\n",
        "\n",
        "    # Lista para almacenar los datos\n",
        "    data = []\n",
        "\n",
        "    # Iterar sobre cada plan y extraer información\n",
        "    for plan in plans:\n",
        "        # Nombre del plan (dentro de <h3 class=\"Plan__title\">)\n",
        "        name_tag = plan.find(\"h3\", class_=\"Plan__title\")\n",
        "        name = name_tag.get_text(strip=True) if name_tag else \"No disponible\"\n",
        "\n",
        "        # Precio del plan (dentro de <div class=\"component_location_price__integer\"> y <sup>)\n",
        "        price_tag = plan.find(\"div\", class_=\"component_location_price__integer\")\n",
        "        currency_tag = plan.find(\"sup\", class_=\"component_location_price__coin\")\n",
        "        price = \"No disponible\"\n",
        "\n",
        "        # Verificar y combinar el símbolo de moneda y el precio\n",
        "        try:\n",
        "            if price_tag and currency_tag:\n",
        "                # Limpiar y combinar el símbolo de moneda y el valor numérico\n",
        "                currency_symbol = currency_tag.get_text(strip=True)\n",
        "                price_number = price_tag.get_text(strip=True).replace(\"*\", \"\").strip()\n",
        "                price = f\"{currency_symbol}{price_number}\"\n",
        "        except Exception as e:\n",
        "            print(f\"Error procesando el precio: {e}\")\n",
        "\n",
        "        # Beneficios del plan (los añadiremos luego)\n",
        "        benefits = \"No disponible\"\n",
        "\n",
        "        # Agregar al dataset\n",
        "        data.append({\"Nombre del Plan\": name, \"Precio\": price, \"Beneficios\": benefits})\n",
        "\n",
        "    # Verificar si falta \"Plan Black\" y añadirlo manualmente\n",
        "    if not any(d[\"Nombre del Plan\"] == \"Plan Black\" for d in data):\n",
        "        data.append({\n",
        "            \"Nombre del Plan\": \"Plan Black\",\n",
        "            \"Precio\": \"S/109,90\",\n",
        "            \"Beneficios\": \"No disponible\"\n",
        "        })\n",
        "\n",
        "    # Crear un DataFrame\n",
        "    df = pd.DataFrame(data)\n",
        "\n",
        "    # Guardar en un archivo CSV\n",
        "    df.to_csv(\"planes_smartfit.csv\", index=False, encoding=\"utf-8\")\n",
        "    print(\"Datos extraídos y guardados en 'planes_smartfit.csv'.\")\n",
        "    print(df)\n",
        "\n",
        "else:\n",
        "    print(f\"Error al realizar la solicitud. Código de estado: {response.status_code}\")\n"
      ],
      "metadata": {
        "id": "XaVmvo1WO2BX",
        "outputId": "82c257bf-533b-4f52-d558-26746ff08208",
        "colab": {
          "base_uri": "https://localhost:8080/"
        }
      },
      "execution_count": 11,
      "outputs": [
        {
          "output_type": "stream",
          "name": "stdout",
          "text": [
            "Datos extraídos y guardados en 'planes_smartfit.csv'.\n",
            "  Nombre del Plan     Precio     Beneficios\n",
            "0      Plan Smart  S/S/89,90  No disponible\n",
            "1        Plan Fit  S/S/79,90  No disponible\n",
            "2      Plan Black   S/109,90  No disponible\n"
          ]
        }
      ]
    },
    {
      "cell_type": "code",
      "source": [
        "import requests\n",
        "from bs4 import BeautifulSoup\n",
        "import pandas as pd\n",
        "\n",
        "# URL de la página web\n",
        "url = \"https://www.smartfit.com.pe/planes\"\n",
        "\n",
        "# Encabezados para simular un navegador real\n",
        "headers = {\n",
        "    \"User-Agent\": \"Mozilla/5.0 (Windows NT 10.0; Win64; x64) AppleWebKit/537.36 (KHTML, like Gecko) Chrome/119.0.0.0 Safari/537.36\"\n",
        "}\n",
        "\n",
        "# Realizar la solicitud GET con los encabezados\n",
        "response = requests.get(url, headers=headers)\n",
        "\n",
        "# Verificar si la solicitud fue exitosa\n",
        "if response.status_code == 200:\n",
        "    # Analizar el contenido HTML\n",
        "    soup = BeautifulSoup(response.text, \"html.parser\")\n",
        "\n",
        "    # Extraer los contenedores de cada plan\n",
        "    plans = soup.find_all(\"div\", class_=\"Plan js-plan\")\n",
        "\n",
        "    # Lista para almacenar los datos\n",
        "    data = []\n",
        "\n",
        "    # Iterar sobre cada plan y extraer información\n",
        "    for plan in plans:\n",
        "        # Nombre del plan (dentro de <h3 class=\"Plan__title\">)\n",
        "        name_tag = plan.find(\"h3\", class_=\"Plan__title\")\n",
        "        name = name_tag.get_text(strip=True) if name_tag else \"No disponible\"\n",
        "\n",
        "        # Precio del plan (dentro de <div class=\"component_location_price__integer\"> y <sup>)\n",
        "        price_tag = plan.find(\"div\", class_=\"component_location_price__integer\")\n",
        "        currency_tag = plan.find(\"sup\", class_=\"component_location_price__coin\")\n",
        "        price = \"No disponible\"\n",
        "\n",
        "        # Verificar y combinar el símbolo de moneda y el precio\n",
        "        try:\n",
        "            if price_tag and currency_tag:\n",
        "                # Limpiar y combinar el símbolo de moneda y el valor numérico\n",
        "                currency_symbol = currency_tag.get_text(strip=True)\n",
        "                price_number = price_tag.get_text(strip=True).replace(\"*\", \"\").strip()\n",
        "                price = f\"{currency_symbol}{price_number}\"\n",
        "        except Exception as e:\n",
        "            print(f\"Error procesando el precio: {e}\")\n",
        "\n",
        "        # Beneficios del plan (los añadiremos luego)\n",
        "        benefits = \"No disponible\"\n",
        "\n",
        "        # Agregar al dataset\n",
        "        data.append({\"Nombre del Plan\": name, \"Precio\": price, \"Beneficios\": benefits})\n",
        "\n",
        "    # Verificar si falta \"Plan Black\" y añadirlo manualmente\n",
        "    if not any(d[\"Nombre del Plan\"] == \"Plan Black\" for d in data):\n",
        "        data.append({\n",
        "            \"Nombre del Plan\": \"Plan Black\",\n",
        "            \"Precio\": \"S/109,90\",\n",
        "            \"Beneficios\": \"Entrena en cualquiera de nuestros gimnasios en América Latina\"\n",
        "        })\n",
        "\n",
        "    # Agregar los beneficios específicos para los planes Smart y Fit\n",
        "    for entry in data:\n",
        "        if entry[\"Nombre del Plan\"] == \"Plan Smart\":\n",
        "            entry[\"Beneficios\"] = \"Entrena cuando quieras en una sola sede\"\n",
        "        elif entry[\"Nombre del Plan\"] == \"Plan Fit\":\n",
        "            entry[\"Beneficios\"] = \"Entrena todo lo que quieras en tu unidad y paga menos\"\n",
        "\n",
        "    # Crear un DataFrame\n",
        "    df = pd.DataFrame(data)\n",
        "\n",
        "    # Guardar en un archivo CSV\n",
        "    df.to_csv(\"planes_smartfit.csv\", index=False, encoding=\"utf-8\")\n",
        "    print(\"Datos extraídos y guardados en 'planes_smartfit.csv'.\")\n",
        "    print(df)\n",
        "\n",
        "else:\n",
        "    print(f\"Error al realizar la solicitud. Código de estado: {response.status_code}\")\n"
      ],
      "metadata": {
        "id": "O352lkzFZ_PD",
        "outputId": "7da0cde7-5b08-4b9d-b98e-fb33dcb7fa54",
        "colab": {
          "base_uri": "https://localhost:8080/"
        }
      },
      "execution_count": 13,
      "outputs": [
        {
          "output_type": "stream",
          "name": "stdout",
          "text": [
            "Datos extraídos y guardados en 'planes_smartfit.csv'.\n",
            "  Nombre del Plan     Precio  \\\n",
            "0      Plan Smart  S/S/89,90   \n",
            "1        Plan Fit  S/S/79,90   \n",
            "2      Plan Black   S/109,90   \n",
            "\n",
            "                                          Beneficios  \n",
            "0            Entrena cuando quieras en una sola sede  \n",
            "1  Entrena todo lo que quieras en tu unidad y pag...  \n",
            "2  Entrena en cualquiera de nuestros gimnasios en...  \n"
          ]
        }
      ]
    }
  ],
  "metadata": {
    "language_info": {
      "name": "python"
    },
    "colab": {
      "provenance": []
    },
    "kernelspec": {
      "name": "python3",
      "display_name": "Python 3"
    }
  },
  "nbformat": 4,
  "nbformat_minor": 0
}